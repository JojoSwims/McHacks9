{
 "cells": [
  {
   "cell_type": "code",
   "execution_count": 1,
   "metadata": {},
   "outputs": [],
   "source": [
    "import praw\n",
    "import pandas as pd\n"
   ]
  },
  {
   "cell_type": "code",
   "execution_count": 2,
   "metadata": {},
   "outputs": [],
   "source": [
    "CLIENT_ID = \"lI09GgRKEUoInMb13yXFig\"\n",
    "SECRET_KEY = \"Wff8cfbOm2U-fMArXsPAnxgKnhuvJw\"\n",
    "\n",
    "\n",
    "reddit = praw.Reddit(client_id=CLIENT_ID,\n",
    "                     client_secret=SECRET_KEY, password='MGV2vag6nkg7cvb*nzp',\n",
    "                     user_agent='MyAPI/0.0.1', username='BodaciousBelugas')\n"
   ]
  },
  {
   "cell_type": "code",
   "execution_count": 37,
   "metadata": {},
   "outputs": [],
   "source": [
    "res = reddit.subreddit(\"all\").search(\n",
    "    \"Republicans vote to allow 18-year-olds to carry concealed weapons on school property\")\n",
    "df = pd.DataFrame()\n",
    "for post in res:\n",
    "    df = df.append({\n",
    "        'title': post.title,\n",
    "        'post_id' : post.id,\n",
    "        'link' : 'reddit.com' + post.permalink\n",
    "    }, ignore_index=True)\n"
   ]
  },
  {
   "cell_type": "code",
   "execution_count": 38,
   "metadata": {},
   "outputs": [],
   "source": [
    "df.to_csv('reddit_posts.csv')\n"
   ]
  }
 ],
 "metadata": {
  "interpreter": {
   "hash": "31f2aee4e71d21fbe5cf8b01ff0e069b9275f58929596ceb00d14d90e3e16cd6"
  },
  "kernelspec": {
   "display_name": "Python 3.8.9 64-bit",
   "language": "python",
   "name": "python3"
  },
  "language_info": {
   "codemirror_mode": {
    "name": "ipython",
    "version": 3
   },
   "file_extension": ".py",
   "mimetype": "text/x-python",
   "name": "python",
   "nbconvert_exporter": "python",
   "pygments_lexer": "ipython3",
   "version": "3.8.9"
  },
  "orig_nbformat": 4
 },
 "nbformat": 4,
 "nbformat_minor": 2
}
